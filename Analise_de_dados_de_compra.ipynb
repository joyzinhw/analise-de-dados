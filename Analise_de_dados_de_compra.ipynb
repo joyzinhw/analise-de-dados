{
  "cells": [
    {
      "cell_type": "markdown",
      "metadata": {
        "id": "view-in-github",
        "colab_type": "text"
      },
      "source": [
        "<a href=\"https://colab.research.google.com/github/joyzinhw/analise-de-dados/blob/main/Analise_de_dados_de_compra.ipynb\" target=\"_parent\"><img src=\"https://colab.research.google.com/assets/colab-badge.svg\" alt=\"Open In Colab\"/></a>"
      ]
    },
    {
      "cell_type": "markdown",
      "metadata": {
        "id": "2s64181JehBn"
      },
      "source": [
        "## Tarefa: Analisar o Comportamento de Compra de Consumidores."
      ]
    },
    {
      "cell_type": "markdown",
      "source": [
        "**GRUPO**\n",
        "\n",
        "Daniel Araujo,\n",
        "Hilizangela Tallia,\n",
        "James Morais,\n",
        "Joyce Moura."
      ],
      "metadata": {
        "id": "WKmE2XWCmHd5"
      }
    },
    {
      "cell_type": "markdown",
      "metadata": {
        "id": "3AyQ0oIFehBp"
      },
      "source": [
        "Você recebeu a tarefa de analisar os dados de compras de um web site! Os dados estão no formato JSON.\n",
        "\n",
        "No site, cada usuário efetua login usando sua conta pessoal e pode adquirir produtos à medida que navega pela lista de produtos oferecidos. Cada produto possui um valor de venda. Dados de idade e sexo de cada usuário foram coletados e estão fornecidos no arquivo JSON.\n",
        "\n",
        "Seu trabalho é entregar uma análise de comportamento de compra dos consumidores. Esse é um tipo de atividade comum realizado por Cientistas de Dados e o resultado deste trabalho pode ser usado, por exemplo, para alimentar um modelo de Machine Learning e fazer previsões sobre comportamentos futuros.\n",
        "\n",
        "Mas nesta missão você vai analisar o comportamento de compra dos consumidores na linguagem Python e seu relatório final deve incluir cada um dos seguintes itens:\n",
        "\n",
        "**Contagem de Compradores**\n",
        "\n",
        "* Número total de compradores\n",
        "\n",
        "\n",
        "**Análise Geral de Compras**\n",
        "\n",
        "* Número de itens exclusivos\n",
        "* Preço médio de compra\n",
        "* Número total de compras\n",
        "* Rendimento total\n",
        "\n",
        "\n",
        "**Informações Demográficas Por Gênero**\n",
        "\n",
        "* Porcentagem e contagem de compradores masculinos\n",
        "* Porcentagem e contagem de compradores do sexo feminino\n",
        "* Porcentagem e contagem de outros / não divulgados\n",
        "\n",
        "\n",
        "**Análise de Compras Por Gênero**\n",
        "\n",
        "* Número de compras\n",
        "* Preço médio de compra\n",
        "* Valor Total de Compra\n",
        "* Compras for faixa etária\n",
        "\n",
        "\n",
        "**Identifique os 5 principais compradores pelo valor total de compra e, em seguida, liste:**\n",
        "\n",
        "* Login\n",
        "* Número de compras\n",
        "* Preço médio de compra\n",
        "* Valor Total de Compra\n",
        "* Itens mais populares\n",
        "\n",
        "\n",
        "**Identifique os 5 itens mais populares por contagem de compras e, em seguida, liste:**\n",
        "\n",
        "* ID do item\n",
        "* Nome do item\n",
        "* Número de compras\n",
        "* Preço do item\n",
        "* Valor Total de Compra\n",
        "\n",
        "\n",
        "**Identifique os 5 itens mais lucrativos pelo valor total de compra e, em seguida, liste:**\n",
        "\n",
        "* ID do item\n",
        "* Nome do item\n",
        "* Número de compras\n",
        "* Preço do item\n",
        "* Valor Total de Compra\n",
        "\n",
        "\n",
        "**Como considerações finais:**\n",
        "\n",
        "* Seu script deve funcionar para o conjunto de dados fornecido.\n",
        "* Eu sugiro o uso dos pacotes numpy e pandas, porém serão aceitos quaisquer outros pacotes utilizados.\n",
        "* A biblioteca pandas possui funções implementadas que permitem a realização de quase todas as tarefas desse exercício sem necessidade de utilizar comandos de repetição (for ou while). Portanto procurem as funções desse pacote que melhor auxiliem na resolução dessa atividade.  \n"
      ]
    },
    {
      "cell_type": "code",
      "execution_count": null,
      "metadata": {
        "id": "nphf-BPCehBq"
      },
      "outputs": [],
      "source": [
        "# Imports\n",
        "import pandas as pd\n",
        "import numpy as np"
      ]
    },
    {
      "cell_type": "code",
      "execution_count": null,
      "metadata": {
        "colab": {
          "base_uri": "https://localhost:8080/",
          "height": 206
        },
        "id": "X3G1A_uhehBr",
        "outputId": "48a2c16b-f79b-4a77-ed23-7be9a0c1b347"
      },
      "outputs": [
        {
          "output_type": "execute_result",
          "data": {
            "text/plain": [
              "          Login  Idade       Sexo  Item ID  \\\n",
              "0     Aelalis34     38  Masculino      165   \n",
              "1        Eolo46     21  Masculino      119   \n",
              "2   Assastnya25     34  Masculino      174   \n",
              "3  Pheusrical25     21  Masculino       92   \n",
              "4        Aela59     23  Masculino       63   \n",
              "\n",
              "                                Nome do Item  Valor  \n",
              "0                Bone Crushing Silver Skewer   3.37  \n",
              "1  Stormbringer, Dark Blade of Ending Misery   2.32  \n",
              "2                            Primitive Blade   2.46  \n",
              "3                               Final Critic   1.36  \n",
              "4                             Stormfury Mace   1.27  "
            ],
            "text/html": [
              "\n",
              "  <div id=\"df-d946dad1-1cbb-43f6-98c2-670472836d68\" class=\"colab-df-container\">\n",
              "    <div>\n",
              "<style scoped>\n",
              "    .dataframe tbody tr th:only-of-type {\n",
              "        vertical-align: middle;\n",
              "    }\n",
              "\n",
              "    .dataframe tbody tr th {\n",
              "        vertical-align: top;\n",
              "    }\n",
              "\n",
              "    .dataframe thead th {\n",
              "        text-align: right;\n",
              "    }\n",
              "</style>\n",
              "<table border=\"1\" class=\"dataframe\">\n",
              "  <thead>\n",
              "    <tr style=\"text-align: right;\">\n",
              "      <th></th>\n",
              "      <th>Login</th>\n",
              "      <th>Idade</th>\n",
              "      <th>Sexo</th>\n",
              "      <th>Item ID</th>\n",
              "      <th>Nome do Item</th>\n",
              "      <th>Valor</th>\n",
              "    </tr>\n",
              "  </thead>\n",
              "  <tbody>\n",
              "    <tr>\n",
              "      <th>0</th>\n",
              "      <td>Aelalis34</td>\n",
              "      <td>38</td>\n",
              "      <td>Masculino</td>\n",
              "      <td>165</td>\n",
              "      <td>Bone Crushing Silver Skewer</td>\n",
              "      <td>3.37</td>\n",
              "    </tr>\n",
              "    <tr>\n",
              "      <th>1</th>\n",
              "      <td>Eolo46</td>\n",
              "      <td>21</td>\n",
              "      <td>Masculino</td>\n",
              "      <td>119</td>\n",
              "      <td>Stormbringer, Dark Blade of Ending Misery</td>\n",
              "      <td>2.32</td>\n",
              "    </tr>\n",
              "    <tr>\n",
              "      <th>2</th>\n",
              "      <td>Assastnya25</td>\n",
              "      <td>34</td>\n",
              "      <td>Masculino</td>\n",
              "      <td>174</td>\n",
              "      <td>Primitive Blade</td>\n",
              "      <td>2.46</td>\n",
              "    </tr>\n",
              "    <tr>\n",
              "      <th>3</th>\n",
              "      <td>Pheusrical25</td>\n",
              "      <td>21</td>\n",
              "      <td>Masculino</td>\n",
              "      <td>92</td>\n",
              "      <td>Final Critic</td>\n",
              "      <td>1.36</td>\n",
              "    </tr>\n",
              "    <tr>\n",
              "      <th>4</th>\n",
              "      <td>Aela59</td>\n",
              "      <td>23</td>\n",
              "      <td>Masculino</td>\n",
              "      <td>63</td>\n",
              "      <td>Stormfury Mace</td>\n",
              "      <td>1.27</td>\n",
              "    </tr>\n",
              "  </tbody>\n",
              "</table>\n",
              "</div>\n",
              "    <div class=\"colab-df-buttons\">\n",
              "\n",
              "  <div class=\"colab-df-container\">\n",
              "    <button class=\"colab-df-convert\" onclick=\"convertToInteractive('df-d946dad1-1cbb-43f6-98c2-670472836d68')\"\n",
              "            title=\"Convert this dataframe to an interactive table.\"\n",
              "            style=\"display:none;\">\n",
              "\n",
              "  <svg xmlns=\"http://www.w3.org/2000/svg\" height=\"24px\" viewBox=\"0 -960 960 960\">\n",
              "    <path d=\"M120-120v-720h720v720H120Zm60-500h600v-160H180v160Zm220 220h160v-160H400v160Zm0 220h160v-160H400v160ZM180-400h160v-160H180v160Zm440 0h160v-160H620v160ZM180-180h160v-160H180v160Zm440 0h160v-160H620v160Z\"/>\n",
              "  </svg>\n",
              "    </button>\n",
              "\n",
              "  <style>\n",
              "    .colab-df-container {\n",
              "      display:flex;\n",
              "      gap: 12px;\n",
              "    }\n",
              "\n",
              "    .colab-df-convert {\n",
              "      background-color: #E8F0FE;\n",
              "      border: none;\n",
              "      border-radius: 50%;\n",
              "      cursor: pointer;\n",
              "      display: none;\n",
              "      fill: #1967D2;\n",
              "      height: 32px;\n",
              "      padding: 0 0 0 0;\n",
              "      width: 32px;\n",
              "    }\n",
              "\n",
              "    .colab-df-convert:hover {\n",
              "      background-color: #E2EBFA;\n",
              "      box-shadow: 0px 1px 2px rgba(60, 64, 67, 0.3), 0px 1px 3px 1px rgba(60, 64, 67, 0.15);\n",
              "      fill: #174EA6;\n",
              "    }\n",
              "\n",
              "    .colab-df-buttons div {\n",
              "      margin-bottom: 4px;\n",
              "    }\n",
              "\n",
              "    [theme=dark] .colab-df-convert {\n",
              "      background-color: #3B4455;\n",
              "      fill: #D2E3FC;\n",
              "    }\n",
              "\n",
              "    [theme=dark] .colab-df-convert:hover {\n",
              "      background-color: #434B5C;\n",
              "      box-shadow: 0px 1px 3px 1px rgba(0, 0, 0, 0.15);\n",
              "      filter: drop-shadow(0px 1px 2px rgba(0, 0, 0, 0.3));\n",
              "      fill: #FFFFFF;\n",
              "    }\n",
              "  </style>\n",
              "\n",
              "    <script>\n",
              "      const buttonEl =\n",
              "        document.querySelector('#df-d946dad1-1cbb-43f6-98c2-670472836d68 button.colab-df-convert');\n",
              "      buttonEl.style.display =\n",
              "        google.colab.kernel.accessAllowed ? 'block' : 'none';\n",
              "\n",
              "      async function convertToInteractive(key) {\n",
              "        const element = document.querySelector('#df-d946dad1-1cbb-43f6-98c2-670472836d68');\n",
              "        const dataTable =\n",
              "          await google.colab.kernel.invokeFunction('convertToInteractive',\n",
              "                                                    [key], {});\n",
              "        if (!dataTable) return;\n",
              "\n",
              "        const docLinkHtml = 'Like what you see? Visit the ' +\n",
              "          '<a target=\"_blank\" href=https://colab.research.google.com/notebooks/data_table.ipynb>data table notebook</a>'\n",
              "          + ' to learn more about interactive tables.';\n",
              "        element.innerHTML = '';\n",
              "        dataTable['output_type'] = 'display_data';\n",
              "        await google.colab.output.renderOutput(dataTable, element);\n",
              "        const docLink = document.createElement('div');\n",
              "        docLink.innerHTML = docLinkHtml;\n",
              "        element.appendChild(docLink);\n",
              "      }\n",
              "    </script>\n",
              "  </div>\n",
              "\n",
              "\n",
              "<div id=\"df-23e7fc41-d499-4733-a6d0-e79964612687\">\n",
              "  <button class=\"colab-df-quickchart\" onclick=\"quickchart('df-23e7fc41-d499-4733-a6d0-e79964612687')\"\n",
              "            title=\"Suggest charts\"\n",
              "            style=\"display:none;\">\n",
              "\n",
              "<svg xmlns=\"http://www.w3.org/2000/svg\" height=\"24px\"viewBox=\"0 0 24 24\"\n",
              "     width=\"24px\">\n",
              "    <g>\n",
              "        <path d=\"M19 3H5c-1.1 0-2 .9-2 2v14c0 1.1.9 2 2 2h14c1.1 0 2-.9 2-2V5c0-1.1-.9-2-2-2zM9 17H7v-7h2v7zm4 0h-2V7h2v10zm4 0h-2v-4h2v4z\"/>\n",
              "    </g>\n",
              "</svg>\n",
              "  </button>\n",
              "\n",
              "<style>\n",
              "  .colab-df-quickchart {\n",
              "      --bg-color: #E8F0FE;\n",
              "      --fill-color: #1967D2;\n",
              "      --hover-bg-color: #E2EBFA;\n",
              "      --hover-fill-color: #174EA6;\n",
              "      --disabled-fill-color: #AAA;\n",
              "      --disabled-bg-color: #DDD;\n",
              "  }\n",
              "\n",
              "  [theme=dark] .colab-df-quickchart {\n",
              "      --bg-color: #3B4455;\n",
              "      --fill-color: #D2E3FC;\n",
              "      --hover-bg-color: #434B5C;\n",
              "      --hover-fill-color: #FFFFFF;\n",
              "      --disabled-bg-color: #3B4455;\n",
              "      --disabled-fill-color: #666;\n",
              "  }\n",
              "\n",
              "  .colab-df-quickchart {\n",
              "    background-color: var(--bg-color);\n",
              "    border: none;\n",
              "    border-radius: 50%;\n",
              "    cursor: pointer;\n",
              "    display: none;\n",
              "    fill: var(--fill-color);\n",
              "    height: 32px;\n",
              "    padding: 0;\n",
              "    width: 32px;\n",
              "  }\n",
              "\n",
              "  .colab-df-quickchart:hover {\n",
              "    background-color: var(--hover-bg-color);\n",
              "    box-shadow: 0 1px 2px rgba(60, 64, 67, 0.3), 0 1px 3px 1px rgba(60, 64, 67, 0.15);\n",
              "    fill: var(--button-hover-fill-color);\n",
              "  }\n",
              "\n",
              "  .colab-df-quickchart-complete:disabled,\n",
              "  .colab-df-quickchart-complete:disabled:hover {\n",
              "    background-color: var(--disabled-bg-color);\n",
              "    fill: var(--disabled-fill-color);\n",
              "    box-shadow: none;\n",
              "  }\n",
              "\n",
              "  .colab-df-spinner {\n",
              "    border: 2px solid var(--fill-color);\n",
              "    border-color: transparent;\n",
              "    border-bottom-color: var(--fill-color);\n",
              "    animation:\n",
              "      spin 1s steps(1) infinite;\n",
              "  }\n",
              "\n",
              "  @keyframes spin {\n",
              "    0% {\n",
              "      border-color: transparent;\n",
              "      border-bottom-color: var(--fill-color);\n",
              "      border-left-color: var(--fill-color);\n",
              "    }\n",
              "    20% {\n",
              "      border-color: transparent;\n",
              "      border-left-color: var(--fill-color);\n",
              "      border-top-color: var(--fill-color);\n",
              "    }\n",
              "    30% {\n",
              "      border-color: transparent;\n",
              "      border-left-color: var(--fill-color);\n",
              "      border-top-color: var(--fill-color);\n",
              "      border-right-color: var(--fill-color);\n",
              "    }\n",
              "    40% {\n",
              "      border-color: transparent;\n",
              "      border-right-color: var(--fill-color);\n",
              "      border-top-color: var(--fill-color);\n",
              "    }\n",
              "    60% {\n",
              "      border-color: transparent;\n",
              "      border-right-color: var(--fill-color);\n",
              "    }\n",
              "    80% {\n",
              "      border-color: transparent;\n",
              "      border-right-color: var(--fill-color);\n",
              "      border-bottom-color: var(--fill-color);\n",
              "    }\n",
              "    90% {\n",
              "      border-color: transparent;\n",
              "      border-bottom-color: var(--fill-color);\n",
              "    }\n",
              "  }\n",
              "</style>\n",
              "\n",
              "  <script>\n",
              "    async function quickchart(key) {\n",
              "      const quickchartButtonEl =\n",
              "        document.querySelector('#' + key + ' button');\n",
              "      quickchartButtonEl.disabled = true;  // To prevent multiple clicks.\n",
              "      quickchartButtonEl.classList.add('colab-df-spinner');\n",
              "      try {\n",
              "        const charts = await google.colab.kernel.invokeFunction(\n",
              "            'suggestCharts', [key], {});\n",
              "      } catch (error) {\n",
              "        console.error('Error during call to suggestCharts:', error);\n",
              "      }\n",
              "      quickchartButtonEl.classList.remove('colab-df-spinner');\n",
              "      quickchartButtonEl.classList.add('colab-df-quickchart-complete');\n",
              "    }\n",
              "    (() => {\n",
              "      let quickchartButtonEl =\n",
              "        document.querySelector('#df-23e7fc41-d499-4733-a6d0-e79964612687 button');\n",
              "      quickchartButtonEl.style.display =\n",
              "        google.colab.kernel.accessAllowed ? 'block' : 'none';\n",
              "    })();\n",
              "  </script>\n",
              "</div>\n",
              "\n",
              "    </div>\n",
              "  </div>\n"
            ],
            "application/vnd.google.colaboratory.intrinsic+json": {
              "type": "dataframe",
              "variable_name": "dados_compras",
              "summary": "{\n  \"name\": \"dados_compras\",\n  \"rows\": 780,\n  \"fields\": [\n    {\n      \"column\": \"Login\",\n      \"properties\": {\n        \"dtype\": \"string\",\n        \"num_unique_values\": 573,\n        \"samples\": [\n          \"Lassassast73\",\n          \"Tauldilsa43\",\n          \"Tyeulisu40\"\n        ],\n        \"semantic_type\": \"\",\n        \"description\": \"\"\n      }\n    },\n    {\n      \"column\": \"Idade\",\n      \"properties\": {\n        \"dtype\": \"number\",\n        \"std\": 6,\n        \"min\": 7,\n        \"max\": 45,\n        \"num_unique_values\": 37,\n        \"samples\": [\n          18,\n          15,\n          20\n        ],\n        \"semantic_type\": \"\",\n        \"description\": \"\"\n      }\n    },\n    {\n      \"column\": \"Sexo\",\n      \"properties\": {\n        \"dtype\": \"category\",\n        \"num_unique_values\": 3,\n        \"samples\": [\n          \"Masculino\",\n          \"Feminino\",\n          \"Outro / N\\u00e3o Divulgado\"\n        ],\n        \"semantic_type\": \"\",\n        \"description\": \"\"\n      }\n    },\n    {\n      \"column\": \"Item ID\",\n      \"properties\": {\n        \"dtype\": \"number\",\n        \"std\": 52,\n        \"min\": 0,\n        \"max\": 183,\n        \"num_unique_values\": 183,\n        \"samples\": [\n          177,\n          141,\n          76\n        ],\n        \"semantic_type\": \"\",\n        \"description\": \"\"\n      }\n    },\n    {\n      \"column\": \"Nome do Item\",\n      \"properties\": {\n        \"dtype\": \"category\",\n        \"num_unique_values\": 179,\n        \"samples\": [\n          \"Stormcaller\",\n          \"Twilight's Carver\",\n          \"Blazeguard, Reach of Eternity\"\n        ],\n        \"semantic_type\": \"\",\n        \"description\": \"\"\n      }\n    },\n    {\n      \"column\": \"Valor\",\n      \"properties\": {\n        \"dtype\": \"number\",\n        \"std\": 1.1157800285381194,\n        \"min\": 1.03,\n        \"max\": 4.95,\n        \"num_unique_values\": 152,\n        \"samples\": [\n          3.39,\n          1.32,\n          4.07\n        ],\n        \"semantic_type\": \"\",\n        \"description\": \"\"\n      }\n    }\n  ]\n}"
            }
          },
          "metadata": {},
          "execution_count": 17
        }
      ],
      "source": [
        "# Endereco do arquivo\n",
        "endereco = 'dados_compras.json'\n",
        "\n",
        "dados_compras = pd.read_json(endereco, orient = \"values\")\n",
        "dados_compras.head()#Para ver toda a tabela de valores basta remover o head()"
      ]
    },
    {
      "cell_type": "code",
      "execution_count": null,
      "metadata": {
        "colab": {
          "base_uri": "https://localhost:8080/",
          "height": 35
        },
        "id": "hdGE0XWJehBs",
        "outputId": "f5a6053d-b3fa-430f-f691-d6ab58f3e32e"
      },
      "outputs": [
        {
          "output_type": "execute_result",
          "data": {
            "text/plain": [
              "'Aelalis34'"
            ],
            "application/vnd.google.colaboratory.intrinsic+json": {
              "type": "string"
            }
          },
          "metadata": {},
          "execution_count": 18
        }
      ],
      "source": [
        "#Para acessar as posições da variavel\n",
        "dados_compras['Login'][0]"
      ]
    },
    {
      "cell_type": "markdown",
      "metadata": {
        "id": "UCt-N-sVehBs"
      },
      "source": [
        "## Contagem de Compradores"
      ]
    },
    {
      "cell_type": "code",
      "execution_count": null,
      "metadata": {
        "id": "rLa-f7dTehBs"
      },
      "outputs": [],
      "source": [
        "# Número total de compradores"
      ]
    },
    {
      "cell_type": "code",
      "execution_count": null,
      "metadata": {
        "id": "ckotg7WlehBs",
        "colab": {
          "base_uri": "https://localhost:8080/"
        },
        "outputId": "a7b63659-701a-4dc0-a8ab-a195fbfb9288"
      },
      "outputs": [
        {
          "output_type": "stream",
          "name": "stdout",
          "text": [
            "Total de compradores:\n",
            " 573\n"
          ]
        }
      ],
      "source": [
        "# Implemente aqui sua solução\n",
        "total_compradores = len(dados_compras['Login'].unique())\n",
        "print(\"Total de compradores:\\n\", total_compradores)"
      ]
    },
    {
      "cell_type": "markdown",
      "metadata": {
        "id": "hcskFvx3ehBs"
      },
      "source": [
        "## Análise Geral de Compras"
      ]
    },
    {
      "cell_type": "code",
      "execution_count": null,
      "metadata": {
        "id": "JbNzG8FKehBt"
      },
      "outputs": [],
      "source": [
        "# Número de itens exclusivos\n",
        "# Preço médio de compra\n",
        "# Número total de compras\n",
        "# Rendimento total"
      ]
    },
    {
      "cell_type": "code",
      "execution_count": null,
      "metadata": {
        "colab": {
          "base_uri": "https://localhost:8080/"
        },
        "id": "rC5DQ6esehBt",
        "outputId": "4ec12ab2-0b74-407a-a53d-85ce91105c0f"
      },
      "outputs": [
        {
          "output_type": "stream",
          "name": "stdout",
          "text": [
            "Itens exclusivos:\n",
            " 183\n",
            "Preço medio:\n",
            " 2.9311923076923074\n",
            "Total de compras:\n",
            " 780\n",
            "Rendimento total:\n",
            " 2286.33\n"
          ]
        }
      ],
      "source": [
        "# Implemente aqui sua solução\n",
        "itens_exclusivos = len(dados_compras['Item ID'].unique())\n",
        "preco_medio_compra = dados_compras['Valor'].mean()\n",
        "total_compras = len(dados_compras)\n",
        "rendimento_total = dados_compras['Valor'].sum()\n",
        "\n",
        "print(\"Itens exclusivos:\\n\", itens_exclusivos)\n",
        "print(\"Preço medio:\\n\", preco_medio_compra)\n",
        "print(\"Total de compras:\\n\", total_compras)\n",
        "print(\"Rendimento total:\\n\", rendimento_total)"
      ]
    },
    {
      "cell_type": "markdown",
      "metadata": {
        "id": "mkuBwb4HehBt"
      },
      "source": [
        "## Informações Demográficas Por Gênero"
      ]
    },
    {
      "cell_type": "code",
      "execution_count": null,
      "metadata": {
        "id": "lcntpNmLehBt"
      },
      "outputs": [],
      "source": [
        "# Porcentagem e contagem de compradores masculinos\n",
        "# Porcentagem e contagem de compradores do sexo feminino\n",
        "# Porcentagem e contagem de outros / não divulgados"
      ]
    },
    {
      "cell_type": "code",
      "execution_count": null,
      "metadata": {
        "id": "NRp-3zW3ehBt",
        "colab": {
          "base_uri": "https://localhost:8080/"
        },
        "outputId": "a37abb4d-6b93-4e95-e2c0-e1ec28079801"
      },
      "outputs": [
        {
          "output_type": "stream",
          "name": "stdout",
          "text": [
            "\n",
            "Informações Demográficas Por Gênero:\n",
            "Sexo\n",
            "Masculino                633\n",
            "Feminino                 136\n",
            "Outro / Não Divulgado     11\n",
            "Name: count, dtype: int64 \n",
            "\n",
            "Sexo\n",
            "Masculino                110.471204\n",
            "Feminino                  23.734729\n",
            "Outro / Não Divulgado      1.919721\n",
            "Name: count, dtype: float64 \n",
            "\n"
          ]
        }
      ],
      "source": [
        "# Implemente aqui sua solução\n",
        "\n",
        "contagem_genero = dados_compras['Sexo'].value_counts()\n",
        "porcentagem_genero = (contagem_genero / total_compradores) * 100\n",
        "\n",
        "print(\"\\nInformações Demográficas Por Gênero:\")\n",
        "print(contagem_genero, \"\\n\")\n",
        "print(porcentagem_genero, \"\\n\")"
      ]
    },
    {
      "cell_type": "markdown",
      "metadata": {
        "id": "MQTXXugoehBt"
      },
      "source": [
        "## Análise de Compras Por Gênero"
      ]
    },
    {
      "cell_type": "code",
      "execution_count": null,
      "metadata": {
        "id": "3wRMIWmoehBu"
      },
      "outputs": [],
      "source": [
        "# Número de compras\n",
        "# Preço médio de compra\n",
        "# Valor Total de Compra\n",
        "# Compras por faixa etária"
      ]
    },
    {
      "cell_type": "code",
      "execution_count": null,
      "metadata": {
        "id": "i2F2wNWAehBu",
        "colab": {
          "base_uri": "https://localhost:8080/"
        },
        "outputId": "7b392832-c73e-4f13-8cbf-94738e600c3b"
      },
      "outputs": [
        {
          "output_type": "stream",
          "name": "stdout",
          "text": [
            "Número de compras por gênero:\n",
            "Sexo\n",
            "Feminino                 136\n",
            "Masculino                633\n",
            "Outro / Não Divulgado     11\n",
            "Name: Item ID, dtype: int64\n",
            "\n",
            "Preço médio de compra por gênero:\n",
            "Sexo\n",
            "Feminino                 2.815515\n",
            "Masculino                2.950521\n",
            "Outro / Não Divulgado    3.249091\n",
            "Name: Valor, dtype: float64\n",
            "\n",
            "Valor Total de Compra por gênero:\n",
            "Sexo\n",
            "Feminino                  382.91\n",
            "Masculino                1867.68\n",
            "Outro / Não Divulgado      35.74\n",
            "Name: Valor, dtype: float64\n",
            "\n",
            "Número de compras por faixa etária:\n",
            "Faixa Etária\n",
            "<18      174\n",
            "18-24    425\n",
            "25-34    134\n",
            "35-44     47\n",
            "45-54      0\n",
            "55-64      0\n",
            "65+        0\n",
            "Name: Item ID, dtype: int64\n"
          ]
        }
      ],
      "source": [
        "# Implemente aqui sua solução\n",
        "compras_por_genero = dados_compras.groupby('Sexo')['Item ID'].count()\n",
        "preco_medio_por_genero = dados_compras.groupby('Sexo')['Valor'].mean()\n",
        "valor_total_por_genero = dados_compras.groupby('Sexo')['Valor'].sum()\n",
        "\n",
        "print(\"Número de compras por gênero:\")\n",
        "print(compras_por_genero)\n",
        "print(\"\\nPreço médio de compra por gênero:\")\n",
        "print(preco_medio_por_genero)\n",
        "print(\"\\nValor Total de Compra por gênero:\")\n",
        "print(valor_total_por_genero)\n",
        "\n",
        "faixas_etarias = pd.cut(dados_compras['Idade'], bins=[0, 18, 25, 35, 45, 55, 65, 100],\n",
        "                        labels=['<18', '18-24', '25-34', '35-44', '45-54', '55-64', '65+'])\n",
        "\n",
        "dados_compras['Faixa Etária'] = faixas_etarias\n",
        "compras_por_faixa_etaria = dados_compras.groupby('Faixa Etária')['Item ID'].count()\n",
        "\n",
        "print(\"\\nNúmero de compras por faixa etária:\")\n",
        "print(compras_por_faixa_etaria)\n"
      ]
    },
    {
      "cell_type": "markdown",
      "metadata": {
        "id": "5gaZSWTdehBu"
      },
      "source": [
        "## Identifique os 5 principais compradores pelo valor total de compra e, em seguida, liste:"
      ]
    },
    {
      "cell_type": "code",
      "execution_count": null,
      "metadata": {
        "id": "6_vMUgzcehBu"
      },
      "outputs": [],
      "source": [
        "# Login\n",
        "# Número de compras\n",
        "# Preço médio de compra\n",
        "# Valor Total de Compra\n",
        "# Itens mais populares"
      ]
    },
    {
      "cell_type": "code",
      "execution_count": null,
      "metadata": {
        "id": "JITbrwECehBu",
        "colab": {
          "base_uri": "https://localhost:8080/"
        },
        "outputId": "b84edf04-5837-4349-d10e-8dfaffe4e564"
      },
      "outputs": [
        {
          "output_type": "stream",
          "name": "stdout",
          "text": [
            "Os 5 principais compradores pelo valor total de compra:\n",
            "Login\n",
            "Undirrala66    17.06\n",
            "Saedue76       13.56\n",
            "Mindimnya67    12.74\n",
            "Haellysu29     12.73\n",
            "Eoda93         11.58\n",
            "Name: Valor, dtype: float64 \n",
            "\n",
            "\n",
            "Comprador: Undirrala66\n",
            "\n",
            " Número de compras: 5\n",
            "\n",
            "Preço médio de compra: $3.41\n",
            "\n",
            "Valor Total de Compra: $17.06\n",
            "\n",
            "\n",
            "Itens mais populares:\n",
            "Nome do Item\n",
            "Blood Infused Guardian        1\n",
            "Spectral Diamond Doomblade    1\n",
            "Piece Maker                   1\n",
            "Name: count, dtype: int64\n",
            "\n",
            "Comprador: Saedue76\n",
            "\n",
            " Número de compras: 4\n",
            "\n",
            "Preço médio de compra: $3.39\n",
            "\n",
            "Valor Total de Compra: $13.56\n",
            "\n",
            "\n",
            "Itens mais populares:\n",
            "Nome do Item\n",
            "Serenity                        1\n",
            "Striker                         1\n",
            "Thorn, Satchel of Dark Souls    1\n",
            "Name: count, dtype: int64\n",
            "\n",
            "Comprador: Mindimnya67\n",
            "\n",
            " Número de compras: 4\n",
            "\n",
            "Preço médio de compra: $3.18\n",
            "\n",
            "Valor Total de Compra: $12.74\n",
            "\n",
            "\n",
            "Itens mais populares:\n",
            "Nome do Item\n",
            "Striker                 1\n",
            "Thunderfury Scimitar    1\n",
            "Fiery Glass Crusader    1\n",
            "Name: count, dtype: int64\n",
            "\n",
            "Comprador: Haellysu29\n",
            "\n",
            " Número de compras: 3\n",
            "\n",
            "Preço médio de compra: $4.24\n",
            "\n",
            "Valor Total de Compra: $12.73\n",
            "\n",
            "\n",
            "Itens mais populares:\n",
            "Nome do Item\n",
            "Blood-Forged Skeletal Spine    1\n",
            "Thirsty Iron Reaver            1\n",
            "Celeste                        1\n",
            "Name: count, dtype: int64\n",
            "\n",
            "Comprador: Eoda93\n",
            "\n",
            " Número de compras: 3\n",
            "\n",
            "Preço médio de compra: $3.86\n",
            "\n",
            "Valor Total de Compra: $11.58\n",
            "\n",
            "\n",
            "Itens mais populares:\n",
            "Nome do Item\n",
            "Heartless Bone Dualblade    1\n",
            "Stormfury Longsword         1\n",
            "Haunted Bronzed Bludgeon    1\n",
            "Name: count, dtype: int64\n"
          ]
        }
      ],
      "source": [
        "# Implemente aqui sua solução\n",
        "\n",
        "\n",
        "total_por_comprador = dados_compras.groupby('Login')['Valor'].sum()\n",
        "top_5_compradores = total_por_comprador.nlargest(5)\n",
        "print(\"Os 5 principais compradores pelo valor total de compra:\")\n",
        "print(top_5_compradores, '\\n')\n",
        "\n",
        "\n",
        "for comprador in top_5_compradores.index:\n",
        "    compras_comprador = dados_compras[dados_compras['Login'] == comprador]\n",
        "    numero_de_compras = compras_comprador.shape[0]\n",
        "    preco_medio = compras_comprador['Valor'].mean()\n",
        "    valor_total = top_5_compradores[comprador]\n",
        "    itens_populares = compras_comprador['Nome do Item'].value_counts().head(3)\n",
        "\n",
        "\n",
        "    print(\"\\nComprador:\", comprador)\n",
        "    print(\"\\n Número de compras:\", numero_de_compras)\n",
        "    print(\"\\nPreço médio de compra: ${:.2f}\".format(preco_medio))\n",
        "    print(\"\\nValor Total de Compra: ${:.2f}\".format(valor_total))\n",
        "    print(\"\\n\\nItens mais populares:\")\n",
        "    print(itens_populares)\n",
        "\n",
        "\n"
      ]
    },
    {
      "cell_type": "markdown",
      "metadata": {
        "id": "H_7WXbEYehBu"
      },
      "source": [
        "## Identifique os 5 itens mais populares por contagem de compras e, em seguida, liste:"
      ]
    },
    {
      "cell_type": "code",
      "execution_count": null,
      "metadata": {
        "id": "udAlont_ehBv"
      },
      "outputs": [],
      "source": [
        "# ID do item\n",
        "# Nome do item\n",
        "# Número de compras\n",
        "# Preço do item\n",
        "# Valor Total de Compra"
      ]
    },
    {
      "cell_type": "code",
      "execution_count": null,
      "metadata": {
        "id": "oWMQwPe_ehBv",
        "colab": {
          "base_uri": "https://localhost:8080/"
        },
        "outputId": "173c060e-834c-4bec-f906-f7aa5157c4a8"
      },
      "outputs": [
        {
          "output_type": "stream",
          "name": "stdout",
          "text": [
            "ID do item: 39\n",
            "Nome do item: Betrayal, Whisper of Grieving Widows\n",
            "Número de compras: 11\n",
            "Preço do item: 2.35\n",
            "Valor Total de Compra: 25.85\n",
            "\n",
            "\n",
            "ID do item: 84\n",
            "Nome do item: Arcane Gem\n",
            "Número de compras: 11\n",
            "Preço do item: 2.23\n",
            "Valor Total de Compra: 24.53\n",
            "\n",
            "\n",
            "ID do item: 175\n",
            "Nome do item: Woeful Adamantite Claymore\n",
            "Número de compras: 9\n",
            "Preço do item: 1.24\n",
            "Valor Total de Compra: 11.16\n",
            "\n",
            "\n",
            "ID do item: 13\n",
            "Nome do item: Serenity\n",
            "Número de compras: 9\n",
            "Preço do item: 1.49\n",
            "Valor Total de Compra: 13.41\n",
            "\n",
            "\n",
            "ID do item: 31\n",
            "Nome do item: Trickster\n",
            "Número de compras: 9\n",
            "Preço do item: 2.07\n",
            "Valor Total de Compra: 18.63\n",
            "\n",
            "\n"
          ]
        }
      ],
      "source": [
        "# Implemente aqui sua solução\n",
        "\n",
        "contagem_compras = dados_compras['Item ID'].value_counts()\n",
        "top_5_itens = contagem_compras.head(5)\n",
        "\n",
        "for item_id, compras in top_5_itens.items():\n",
        "    item_info = dados_compras[dados_compras['Item ID'] == item_id].iloc[0]\n",
        "    nome_item = item_info['Nome do Item']\n",
        "    preco_item = item_info['Valor']\n",
        "    valor_total_compra = preco_item * compras\n",
        "\n",
        "\n",
        "    print(\"ID do item:\", item_id)\n",
        "    print(\"Nome do item:\", nome_item)\n",
        "    print(\"Número de compras:\", compras)\n",
        "    print(\"Preço do item:\", preco_item)\n",
        "    print(\"Valor Total de Compra:\", valor_total_compra)\n",
        "    print(\"\\n\")\n",
        "\n"
      ]
    },
    {
      "cell_type": "markdown",
      "metadata": {
        "id": "V5zctBVcehBv"
      },
      "source": [
        "## Identifique os 5 itens mais lucrativos pelo valor total de compra e, em seguida, liste:"
      ]
    },
    {
      "cell_type": "code",
      "execution_count": null,
      "metadata": {
        "id": "JD00jZ4AehBv"
      },
      "outputs": [],
      "source": [
        "# ID do item\n",
        "# Nome do item\n",
        "# Número de compras\n",
        "# Preço do item\n",
        "# Valor Total de Compra"
      ]
    },
    {
      "cell_type": "code",
      "execution_count": null,
      "metadata": {
        "id": "z7SdG_3jehBv",
        "colab": {
          "base_uri": "https://localhost:8080/"
        },
        "outputId": "cf4262e0-681f-4f2a-b3e7-fd93bf052d35"
      },
      "outputs": [
        {
          "output_type": "stream",
          "name": "stdout",
          "text": [
            "Os 5 itens mais lucrativos pelo valor total de compra são:\n",
            "                                    Valor Total de Compra  Número de compras\n",
            "Item ID Nome do Item                                                        \n",
            "34      Retribution Axe                             37.26                  9\n",
            "115     Spectral Diamond Doomblade                  29.75                  7\n",
            "32      Orenmir                                     29.70                  6\n",
            "103     Singed Scalpel                              29.22                  6\n",
            "107     Splitter, Foe Of Subtlety                   28.88                  8\n"
          ]
        }
      ],
      "source": [
        "# Implemente aqui sua solução\n",
        "\n",
        "itens_mais_lucrativos = dados_compras.groupby(['Item ID', 'Nome do Item']).agg({'Valor': 'sum', 'Item ID': 'count'}).rename(columns={'Item ID': 'Número de compras', 'Valor': 'Valor Total de Compra'}).sort_values(by='Valor Total de Compra', ascending=False).head(5)\n",
        "\n",
        "print(\"Os 5 itens mais lucrativos pelo valor total de compra são:\")\n",
        "print(itens_mais_lucrativos)\n",
        "\n"
      ]
    }
  ],
  "metadata": {
    "kernelspec": {
      "display_name": "Python 3",
      "language": "python",
      "name": "python3"
    },
    "language_info": {
      "codemirror_mode": {
        "name": "ipython",
        "version": 3
      },
      "file_extension": ".py",
      "mimetype": "text/x-python",
      "name": "python",
      "nbconvert_exporter": "python",
      "pygments_lexer": "ipython3",
      "version": "3.8.3"
    },
    "colab": {
      "provenance": [],
      "include_colab_link": true
    }
  },
  "nbformat": 4,
  "nbformat_minor": 0
}